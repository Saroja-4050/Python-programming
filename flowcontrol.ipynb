{
  "nbformat": 4,
  "nbformat_minor": 0,
  "metadata": {
    "colab": {
      "name": "flowcontrol.ipynb",
      "provenance": [],
      "collapsed_sections": []
    },
    "kernelspec": {
      "name": "python3",
      "display_name": "Python 3"
    },
    "language_info": {
      "name": "python"
    }
  },
  "cells": [
    {
      "cell_type": "code",
      "execution_count": 5,
      "metadata": {
        "colab": {
          "base_uri": "https://localhost:8080/"
        },
        "id": "0WojWk19rVW3",
        "outputId": "0090ed92-f1f5-492c-968b-e140d6825554"
      },
      "outputs": [
        {
          "output_type": "stream",
          "name": "stdout",
          "text": [
            "I am thinking of a number between 1 and 20.\n",
            "Take a guess\n",
            "4\n",
            "your guess is too low\n",
            "Take a guess\n",
            "7\n",
            "your guess is too low\n",
            "Take a guess\n",
            "10\n",
            "your guess is too low\n",
            "Take a guess\n",
            "15\n",
            "your guess is too low\n",
            "Take a guess\n",
            "18\n",
            "good job! you guessed the my number in 5 guesses!\n"
          ]
        }
      ],
      "source": [
        "#this is a guess the number game\n",
        "\n",
        "import random\n",
        "secretNumber = random.randint(1,20)\n",
        "print(\"I am thinking of a number between 1 and 20.\")\n",
        "#Ask the player to guess 6 times\n",
        "for guessesTaken in range(1,7):\n",
        "  print(\"Take a guess\")\n",
        "  guess = int(input())\n",
        "  if  guess < secretNumber:\n",
        "    print(\"your guess is too low\")\n",
        "  elif guess > secretNumber:\n",
        "    print(\"your guess is too high\")\n",
        "  else:\n",
        "    break\n",
        "if guess == secretNumber:\n",
        "  print(\"good job! you guessed the my number in \"+ str(guessesTaken)+ \" guesses!\")\n",
        "else:\n",
        "  print(\"Nope.The number I was thinking of was\" + str(secretNumber))\n"
      ]
    },
    {
      "cell_type": "code",
      "source": [
        "import random, sys\n",
        "\n",
        "print('ROCK, PAPER, SCISSORS')\n",
        "\n",
        "# These variables keep track of the number of wins, losses, and ties.\n",
        "wins = 0\n",
        "losses = 0\n",
        "ties = 0\n",
        "\n",
        "while True: # The main game loop.\n",
        "    print('%s Wins, %s Losses, %s Ties' % (wins, losses, ties))\n",
        "    while True: # The player input loop.\n",
        "        print('Enter your move: (r)ock (p)aper (s)cissors or (q)uit')\n",
        "        playerMove = input()\n",
        "        if playerMove == 'q':\n",
        "            sys.exit() # Quit the program.\n",
        "        if playerMove == 'r' or playerMove == 'p' or playerMove == 's':\n",
        "            break # Break out of the player input loop.\n",
        "        print('Type one of r, p, s, or q.')\n",
        "\n",
        "    # Display what the player chose:\n",
        "    if playerMove == 'r':\n",
        "        print('ROCK versus...')\n",
        "    elif playerMove == 'p':\n",
        "        print('PAPER versus...')\n",
        "    elif playerMove == 's':\n",
        "        print('SCISSORS versus...')\n",
        "\n",
        "    # Display what the computer chose:\n",
        "    randomNumber = random.randint(1, 3)\n",
        "    if randomNumber == 1:\n",
        "        computerMove = 'r'\n",
        "        print('ROCK')\n",
        "    elif randomNumber == 2:\n",
        "        computerMove = 'p'\n",
        "        print('PAPER')\n",
        "    elif randomNumber == 3:\n",
        "        computerMove = 's'\n",
        "        print('SCISSORS')\n",
        "\n",
        "    # Display and record the win/loss/tie:\n",
        "    if playerMove == computerMove:\n",
        "        print('It is a tie!')\n",
        "        ties = ties + 1\n",
        "    elif playerMove == 'r' and computerMove == 's':\n",
        "        print('You win!')\n",
        "        wins = wins + 1\n",
        "    elif playerMove == 'p' and computerMove == 'r':\n",
        "        print('You win!')\n",
        "        wins = wins + 1\n",
        "    elif playerMove == 's' and computerMove == 'p':\n",
        "        print('You win!')\n",
        "        wins = wins + 1\n",
        "    elif playerMove == 'r' and computerMove == 'p':\n",
        "        print('You lose!')\n",
        "        losses = losses + 1\n",
        "    elif playerMove == 'p' and computerMove == 's':\n",
        "        print('You lose!')\n",
        "        losses = losses + 1\n",
        "    elif playerMove == 's' and computerMove == 'r':\n",
        "        print('You lose!')\n",
        "        losses = losses + 1"
      ],
      "metadata": {
        "colab": {
          "base_uri": "https://localhost:8080/",
          "height": 321
        },
        "id": "75S_D2489kVb",
        "outputId": "b995d56f-a748-45e9-a248-00012014ecab"
      },
      "execution_count": 11,
      "outputs": [
        {
          "name": "stdout",
          "output_type": "stream",
          "text": [
            "ROCK, PAPER, SCISSORS\n",
            "0 Wins, 0 Losses, 0 Ties\n",
            "Enter your move: (r)ock (p)aper (s)cissors or (q)uit\n",
            "p\n",
            "PAPER versus...\n",
            "SCISSORS\n",
            "You lose!\n",
            "0 Wins, 1 Losses, 0 Ties\n",
            "Enter your move: (r)ock (p)aper (s)cissors or (q)uit\n",
            "q\n"
          ]
        },
        {
          "output_type": "error",
          "ename": "SystemExit",
          "evalue": "ignored",
          "traceback": [
            "An exception has occurred, use %tb to see the full traceback.\n",
            "\u001b[0;31mSystemExit\u001b[0m\n"
          ]
        },
        {
          "output_type": "stream",
          "name": "stderr",
          "text": [
            "/usr/local/lib/python3.7/dist-packages/IPython/core/interactiveshell.py:2890: UserWarning: To exit: use 'exit', 'quit', or Ctrl-D.\n",
            "  warn(\"To exit: use 'exit', 'quit', or Ctrl-D.\", stacklevel=1)\n"
          ]
        }
      ]
    }
  ]
}